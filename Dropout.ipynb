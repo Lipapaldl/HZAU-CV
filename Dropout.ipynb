{
 "cells": [
  {
   "cell_type": "markdown",
   "metadata": {
    "tags": [
     "pdf-title"
    ]
   },
   "source": [
    "# Dropout\n",
    "Dropout[1]是一种通过在前向传递过程中随机将一些输出激活设置为零来正则化神经网络的技术。在本练习中，您将实现一个Dropout层，并修改您的全连接网络以选择性地使用Dropout。\n",
    "\n",
    "[1] [Geoffrey E. Hinton et al, \"Improving neural networks by preventing co-adaptation of feature detectors\", arXiv 2012](https://arxiv.org/abs/1207.0580)"
   ]
  },
  {
   "cell_type": "code",
   "execution_count": 2,
   "metadata": {},
   "outputs": [
    {
     "name": "stdout",
     "output_type": "stream",
     "text": [
      "Archive:  dlcv.zip\n",
      "   creating: dlcv/\n",
      "   creating: dlcv/build/\n",
      "   creating: dlcv/build/temp.linux-x86_64-3.7/\n",
      "  inflating: dlcv/build/temp.linux-x86_64-3.7/im2col_cython.o  \n",
      "   creating: dlcv/classifiers/\n",
      "  inflating: dlcv/classifiers/cnn.py  \n",
      "  inflating: dlcv/classifiers/fc_net.py  \n",
      "  inflating: dlcv/classifiers/k_nearest_neighbor.py  \n",
      "  inflating: dlcv/classifiers/linear_classifier.py  \n",
      "  inflating: dlcv/classifiers/linear_svm.py  \n",
      "  inflating: dlcv/classifiers/softmax.py  \n",
      "  inflating: dlcv/classifiers/__init__.py  \n",
      "   creating: dlcv/classifiers/__pycache__/\n",
      "  inflating: dlcv/classifiers/__pycache__/fc_net.cpython-36.pyc  \n",
      "  inflating: dlcv/classifiers/__pycache__/fc_net.cpython-37.pyc  \n",
      "  inflating: dlcv/classifiers/__pycache__/fc_net.cpython-38.pyc  \n",
      "  inflating: dlcv/classifiers/__pycache__/k_nearest_neighbor.cpython-36.pyc  \n",
      "  inflating: dlcv/classifiers/__pycache__/k_nearest_neighbor.cpython-37.pyc  \n",
      "  inflating: dlcv/classifiers/__pycache__/k_nearest_neighbor.cpython-38.pyc  \n",
      "  inflating: dlcv/classifiers/__pycache__/linear_classifier.cpython-36.pyc  \n",
      "  inflating: dlcv/classifiers/__pycache__/linear_classifier.cpython-37.pyc  \n",
      "  inflating: dlcv/classifiers/__pycache__/linear_classifier.cpython-38.pyc  \n",
      "  inflating: dlcv/classifiers/__pycache__/linear_svm.cpython-36.pyc  \n",
      "  inflating: dlcv/classifiers/__pycache__/linear_svm.cpython-37.pyc  \n",
      "  inflating: dlcv/classifiers/__pycache__/linear_svm.cpython-38.pyc  \n",
      "  inflating: dlcv/classifiers/__pycache__/softmax.cpython-36.pyc  \n",
      "  inflating: dlcv/classifiers/__pycache__/softmax.cpython-37.pyc  \n",
      "  inflating: dlcv/classifiers/__pycache__/softmax.cpython-38.pyc  \n",
      "  inflating: dlcv/classifiers/__pycache__/__init__.cpython-36.pyc  \n",
      "  inflating: dlcv/classifiers/__pycache__/__init__.cpython-37.pyc  \n",
      "  inflating: dlcv/classifiers/__pycache__/__init__.cpython-38.pyc  \n",
      "   creating: dlcv/datasets/\n",
      "   creating: dlcv/datasets/cifar-10-batches-py/\n",
      "  inflating: dlcv/datasets/cifar-10-batches-py/batches.meta  \n",
      "  inflating: dlcv/datasets/cifar-10-batches-py/data_batch_1  \n",
      "  inflating: dlcv/datasets/cifar-10-batches-py/data_batch_2  \n",
      "  inflating: dlcv/datasets/cifar-10-batches-py/data_batch_3  \n",
      "  inflating: dlcv/datasets/cifar-10-batches-py/data_batch_4  \n",
      "  inflating: dlcv/datasets/cifar-10-batches-py/data_batch_5  \n",
      "  inflating: dlcv/datasets/cifar-10-batches-py/readme.html  \n",
      "  inflating: dlcv/datasets/cifar-10-batches-py/test_batch  \n",
      "  inflating: dlcv/datasets/get_datasets.sh  \n",
      "  inflating: dlcv/datasets/get_imagenet_val.sh  \n",
      "  inflating: dlcv/datasets/imagenet_val_25.npz  \n",
      "  inflating: dlcv/data_utils.py      \n",
      "  inflating: dlcv/fast_layers.py     \n",
      "  inflating: dlcv/features.py        \n",
      "  inflating: dlcv/gradient_check.py  \n",
      "  inflating: dlcv/im2col.py          \n",
      "  inflating: dlcv/im2col_cython.c    \n",
      "  inflating: dlcv/im2col_cython.cpython-37m-x86_64-linux-gnu.so  \n",
      "  inflating: dlcv/im2col_cython.pyx  \n",
      "  inflating: dlcv/image_utils.py     \n",
      "  inflating: dlcv/layers.py          \n",
      "  inflating: dlcv/layer_utils.py     \n",
      "  inflating: dlcv/net_visualization_pytorch.py  \n",
      "   creating: dlcv/notebook_images/\n",
      "  inflating: dlcv/notebook_images/batchnorm_graph.png  \n",
      "  inflating: dlcv/notebook_images/kitten.jpg  \n",
      "  inflating: dlcv/notebook_images/normalization.png  \n",
      "  inflating: dlcv/notebook_images/puppy.jpg  \n",
      "  inflating: dlcv/optim.py           \n",
      "  inflating: dlcv/setup.py           \n",
      "  inflating: dlcv/solver.py          \n",
      "  inflating: dlcv/vis_utils.py       \n",
      " extracting: dlcv/__init__.py        \n",
      "   creating: dlcv/__pycache__/\n",
      "  inflating: dlcv/__pycache__/data_utils.cpython-36.pyc  \n",
      "  inflating: dlcv/__pycache__/data_utils.cpython-37.pyc  \n",
      "  inflating: dlcv/__pycache__/data_utils.cpython-38.pyc  \n",
      "  inflating: dlcv/__pycache__/features.cpython-36.pyc  \n",
      "  inflating: dlcv/__pycache__/features.cpython-37.pyc  \n",
      "  inflating: dlcv/__pycache__/features.cpython-38.pyc  \n",
      "  inflating: dlcv/__pycache__/gradient_check.cpython-37.pyc  \n",
      "  inflating: dlcv/__pycache__/gradient_check.cpython-38.pyc  \n",
      "  inflating: dlcv/__pycache__/image_utils.cpython-38.pyc  \n",
      "  inflating: dlcv/__pycache__/layers.cpython-36.pyc  \n",
      "  inflating: dlcv/__pycache__/layers.cpython-37.pyc  \n",
      "  inflating: dlcv/__pycache__/layers.cpython-38.pyc  \n",
      "  inflating: dlcv/__pycache__/layer_utils.cpython-36.pyc  \n",
      "  inflating: dlcv/__pycache__/layer_utils.cpython-37.pyc  \n",
      "  inflating: dlcv/__pycache__/layer_utils.cpython-38.pyc  \n",
      "  inflating: dlcv/__pycache__/net_visualization_pytorch.cpython-38.pyc  \n",
      "  inflating: dlcv/__pycache__/optim.cpython-36.pyc  \n",
      "  inflating: dlcv/__pycache__/optim.cpython-37.pyc  \n",
      "  inflating: dlcv/__pycache__/optim.cpython-38.pyc  \n",
      "  inflating: dlcv/__pycache__/solver.cpython-36.pyc  \n",
      "  inflating: dlcv/__pycache__/solver.cpython-37.pyc  \n",
      "  inflating: dlcv/__pycache__/solver.cpython-38.pyc  \n",
      "  inflating: dlcv/__pycache__/vis_utils.cpython-37.pyc  \n",
      "  inflating: dlcv/__pycache__/__init__.cpython-36.pyc  \n",
      "  inflating: dlcv/__pycache__/__init__.cpython-37.pyc  \n",
      "  inflating: dlcv/__pycache__/__init__.cpython-38.pyc  \n"
     ]
    }
   ],
   "source": [
    "!unzip dlcv.zip"
   ]
  },
  {
   "cell_type": "code",
   "execution_count": 4,
   "metadata": {
    "tags": [
     "pdf-ignore"
    ]
   },
   "outputs": [],
   "source": [
    "# Setup cell.\n",
    "import time\n",
    "import numpy as np\n",
    "import matplotlib.pyplot as plt\n",
    "from dlcv.classifiers.fc_net import *\n",
    "from dlcv.data_utils import get_CIFAR10_data\n",
    "from dlcv.gradient_check import eval_numerical_gradient, eval_numerical_gradient_array\n",
    "from dlcv.solver import Solver\n",
    "\n",
    "%matplotlib inline\n",
    "plt.rcParams[\"figure.figsize\"] = (10.0, 8.0)  # Set default size of plots.\n",
    "plt.rcParams[\"image.interpolation\"] = \"nearest\"\n",
    "plt.rcParams[\"image.cmap\"] = \"gray\"\n",
    "\n",
    "%load_ext autoreload\n",
    "%autoreload 2\n",
    "\n",
    "def rel_error(x, y):\n",
    "    \"\"\"Returns relative error.\"\"\"\n",
    "    return np.max(np.abs(x - y) / (np.maximum(1e-8, np.abs(x) + np.abs(y))))"
   ]
  },
  {
   "cell_type": "code",
   "execution_count": 5,
   "metadata": {
    "tags": [
     "pdf-ignore"
    ]
   },
   "outputs": [
    {
     "name": "stdout",
     "output_type": "stream",
     "text": [
      "X_train: (49000, 3, 32, 32)\n",
      "y_train: (49000,)\n",
      "X_val: (1000, 3, 32, 32)\n",
      "y_val: (1000,)\n",
      "X_test: (1000, 3, 32, 32)\n",
      "y_test: (1000,)\n"
     ]
    }
   ],
   "source": [
    "# Load the (preprocessed) CIFAR-10 data.\n",
    "data = get_CIFAR10_data()\n",
    "for k, v in list(data.items()):\n",
    "    print(f\"{k}: {v.shape}\")"
   ]
  },
  {
   "cell_type": "code",
   "execution_count": 6,
   "metadata": {
    "pycharm": {
     "name": "#%%\n"
    }
   },
   "outputs": [
    {
     "name": "stdout",
     "output_type": "stream",
     "text": [
      "[[ True  True False  True]\n",
      " [False  True False False]\n",
      " [ True  True False  True]\n",
      " [ True  True False  True]]\n"
     ]
    }
   ],
   "source": [
    "test=np.random.rand(4,4)<0.5\n",
    "print(test)"
   ]
  },
  {
   "cell_type": "markdown",
   "metadata": {},
   "source": [
    "# Dropout: Forward Pass\n",
    "在文件“dlcv / layers.py”,实现dropout的前向传递。由于dropout在训练和测试期间的行为不同，请确保为两种模式实现操作。\n",
    "\n",
    "完成后，运行下面的单元格来测试你的实现。"
   ]
  },
  {
   "cell_type": "code",
   "execution_count": 10,
   "metadata": {},
   "outputs": [
    {
     "name": "stdout",
     "output_type": "stream",
     "text": [
      "Running tests with p =  0.25\n",
      "Mean of input:  10.000207878477502\n",
      "Mean of train-time output:  10.29248134569658\n",
      "Mean of test-time output:  10.000207878477502\n",
      "Fraction of train-time output set to zero:  0.228024\n",
      "Fraction of test-time output set to zero:  0.0\n",
      "\n",
      "Running tests with p =  0.4\n",
      "Mean of input:  10.000207878477502\n",
      "Mean of train-time output:  12.066174692541935\n",
      "Mean of test-time output:  10.000207878477502\n",
      "Fraction of train-time output set to zero:  0.276056\n",
      "Fraction of test-time output set to zero:  0.0\n",
      "\n",
      "Running tests with p =  0.7\n",
      "Mean of input:  10.000207878477502\n",
      "Mean of train-time output:  20.559911134743654\n",
      "Mean of test-time output:  10.000207878477502\n",
      "Fraction of train-time output set to zero:  0.383312\n",
      "Fraction of test-time output set to zero:  0.0\n",
      "\n"
     ]
    }
   ],
   "source": [
    "np.random.seed(231)\n",
    "x = np.random.randn(500, 500) + 10\n",
    "from dlcv.layers import *\n",
    "for p in [0.25, 0.4, 0.7]:\n",
    "    out, _ = dropout_forward(x, {'mode': 'train', 'p': p})\n",
    "    out_test, _ = dropout_forward(x, {'mode': 'test', 'p': p})\n",
    "    print('Running tests with p = ', p)\n",
    "    print('Mean of input: ', x.mean())\n",
    "    print('Mean of train-time output: ', out.mean())\n",
    "    print('Mean of test-time output: ', out_test.mean())\n",
    "    print('Fraction of train-time output set to zero: ', (out == 0).mean())\n",
    "    print('Fraction of test-time output set to zero: ', (out_test == 0).mean())\n",
    "    print()"
   ]
  },
  {
   "cell_type": "markdown",
   "metadata": {},
   "source": [
    "# Dropout: Backward Pass\n",
    "在文件`dlcv/layers.py`中，实现dropout的反向传递。完成之后，运行下面的单元格来进行数值渐变——检查你的实现。"
   ]
  },
  {
   "cell_type": "code",
   "execution_count": 13,
   "metadata": {},
   "outputs": [
    {
     "name": "stdout",
     "output_type": "stream",
     "text": [
      "dx relative error:  5.445612718272284e-11\n"
     ]
    }
   ],
   "source": [
    "np.random.seed(231)\n",
    "x = np.random.randn(10, 10) + 10\n",
    "dout = np.random.randn(*x.shape)\n",
    "\n",
    "dropout_param = {'mode': 'train', 'p': 0.2, 'seed': 123}\n",
    "out, cache = dropout_forward(x, dropout_param)\n",
    "dx = dropout_backward(dout, cache)\n",
    "dx_num = eval_numerical_gradient_array(lambda xx: dropout_forward(xx, dropout_param)[0], x, dout)\n",
    "\n",
    "# Error should be around e-10 or less.\n",
    "print('dx relative error: ', rel_error(dx, dx_num))"
   ]
  },
  {
   "cell_type": "markdown",
   "metadata": {
    "tags": [
     "pdf-inline"
    ]
   },
   "source": [
    "## Inline Question 1:\n",
    "如果我们不将通过逆dropout传递的值除以dropout层中的`p`，会发生什么?为什么会这样呢?\n",
    "\n",
    "## Answer:\n",
    "[通过Dropout层传递的值除以保留概率p，以补偿Dropout造成的神经元输出的缩放。确保在训练和推断时保持相似的预测行为。如果逆Dropout传递的值不除以Dropout层中保留概率p会导致权重缩放问题，dropout在训练的时候随机失活部分神经元，向前传播被保留的神经元的输出会乘以保留概率p进行缩放。不除以p，保留的神经元的输出值会比期望更大，导致权重的更新过于激烈，可能会影响网络的收敛和训练效果。]\n"
   ]
  },
  {
   "cell_type": "markdown",
   "metadata": {},
   "source": [
    "# Fully Connected Networks with Dropout\n",
    "在文件`dlcv/classifiers/fc_net.py`中，修改你的实现以使用dropout。具体来说，如果网络的构造函数接收到一个不为1的`dropout_keep_ratio`参数值，那么网络应该在每次ReLU非线性之后立即添加一个dropout层。这样做之后,运行以下代码来进行数值梯度——检查你的实现。"
   ]
  },
  {
   "cell_type": "code",
   "execution_count": 18,
   "metadata": {},
   "outputs": [
    {
     "name": "stdout",
     "output_type": "stream",
     "text": [
      "Running check with dropout =  1\n",
      "Initial loss:  2.300479089768492\n",
      "W1 relative error: 1.03e-07\n",
      "W2 relative error: 2.21e-05\n",
      "W3 relative error: 4.56e-07\n",
      "b1 relative error: 4.66e-09\n",
      "b2 relative error: 2.09e-09\n",
      "b3 relative error: 1.69e-10\n",
      "\n",
      "Running check with dropout =  0.75\n",
      "Initial loss:  2.3016482157750753\n",
      "W1 relative error: 3.44e-07\n",
      "W2 relative error: 5.01e-06\n",
      "W3 relative error: 1.40e-07\n",
      "b1 relative error: 1.48e-08\n",
      "b2 relative error: 9.48e-10\n",
      "b3 relative error: 1.28e-10\n",
      "\n",
      "Running check with dropout =  0.5\n",
      "Initial loss:  2.294963257976082\n",
      "W1 relative error: 1.20e-07\n",
      "W2 relative error: 5.54e-07\n",
      "W3 relative error: 3.75e-07\n",
      "b1 relative error: 3.35e-09\n",
      "b2 relative error: 4.40e-09\n",
      "b3 relative error: 1.44e-10\n",
      "\n"
     ]
    }
   ],
   "source": [
    "\n",
    "np.random.seed(231)\n",
    "N, D, H1, H2, C = 2, 15, 20, 30, 10\n",
    "X = np.random.randn(N, D)\n",
    "y = np.random.randint(C, size=(N,))\n",
    "\n",
    "for dropout_keep_ratio in [1, 0.75, 0.5]:\n",
    "    print('Running check with dropout = ', dropout_keep_ratio)\n",
    "    model = FullyConnectedNet(\n",
    "        [H1, H2],\n",
    "        input_dim=D,\n",
    "        num_classes=C,\n",
    "        weight_scale=5e-2,\n",
    "        dtype=np.float64,\n",
    "        dropout_keep_ratio=dropout_keep_ratio,\n",
    "        seed=123\n",
    "    )\n",
    "\n",
    "    loss, grads = model.loss(X, y)\n",
    "    print('Initial loss: ', loss)\n",
    "\n",
    "    # Relative errors should be around e-6 or less.\n",
    "    # Note that it's fine if for dropout_keep_ratio=1 you have W2 error be on the order of e-5.\n",
    "    for name in sorted(grads):\n",
    "        f = lambda _: model.loss(X, y)[0]\n",
    "        grad_num = eval_numerical_gradient(f, model.params[name], verbose=False, h=1e-5)\n",
    "        print('%s relative error: %.2e' % (name, rel_error(grad_num, grads[name])))\n",
    "    print()"
   ]
  },
  {
   "cell_type": "markdown",
   "metadata": {},
   "source": [
    "# Regularization Experiment\n",
    "作为实验，我们将在500个训练示例上训练一对两层网络:一个将不使用dropout，一个将使用保持概率为0.25。然后，我们将随着时间的推移可视化两个网络的训练和验证精度。"
   ]
  },
  {
   "cell_type": "code",
   "execution_count": 21,
   "metadata": {
    "scrolled": false
   },
   "outputs": [
    {
     "name": "stdout",
     "output_type": "stream",
     "text": [
      "1\n",
      "(Iteration 1 / 125) loss: 7.856642\n",
      "(Epoch 0 / 25) train acc: 0.260000; val_acc: 0.184000\n",
      "(Epoch 1 / 25) train acc: 0.416000; val_acc: 0.258000\n",
      "(Epoch 2 / 25) train acc: 0.482000; val_acc: 0.276000\n",
      "(Epoch 3 / 25) train acc: 0.532000; val_acc: 0.277000\n",
      "(Epoch 4 / 25) train acc: 0.600000; val_acc: 0.271000\n",
      "(Epoch 5 / 25) train acc: 0.708000; val_acc: 0.299000\n",
      "(Epoch 6 / 25) train acc: 0.722000; val_acc: 0.282000\n",
      "(Epoch 7 / 25) train acc: 0.832000; val_acc: 0.255000\n",
      "(Epoch 8 / 25) train acc: 0.878000; val_acc: 0.269000\n",
      "(Epoch 9 / 25) train acc: 0.902000; val_acc: 0.275000\n",
      "(Epoch 10 / 25) train acc: 0.888000; val_acc: 0.261000\n",
      "(Epoch 11 / 25) train acc: 0.926000; val_acc: 0.278000\n",
      "(Epoch 12 / 25) train acc: 0.960000; val_acc: 0.302000\n",
      "(Epoch 13 / 25) train acc: 0.964000; val_acc: 0.305000\n",
      "(Epoch 14 / 25) train acc: 0.966000; val_acc: 0.309000\n",
      "(Epoch 15 / 25) train acc: 0.976000; val_acc: 0.288000\n",
      "(Epoch 16 / 25) train acc: 0.988000; val_acc: 0.301000\n",
      "(Epoch 17 / 25) train acc: 0.988000; val_acc: 0.307000\n",
      "(Epoch 18 / 25) train acc: 0.990000; val_acc: 0.308000\n",
      "(Epoch 19 / 25) train acc: 0.990000; val_acc: 0.307000\n",
      "(Epoch 20 / 25) train acc: 0.990000; val_acc: 0.310000\n",
      "(Iteration 101 / 125) loss: 0.020513\n",
      "(Epoch 21 / 25) train acc: 0.994000; val_acc: 0.305000\n",
      "(Epoch 22 / 25) train acc: 0.986000; val_acc: 0.303000\n",
      "(Epoch 23 / 25) train acc: 0.976000; val_acc: 0.288000\n",
      "(Epoch 24 / 25) train acc: 0.996000; val_acc: 0.304000\n",
      "(Epoch 25 / 25) train acc: 0.986000; val_acc: 0.293000\n",
      "\n",
      "0.5\n",
      "(Iteration 1 / 125) loss: 10.430469\n",
      "(Epoch 0 / 25) train acc: 0.264000; val_acc: 0.174000\n",
      "(Epoch 1 / 25) train acc: 0.388000; val_acc: 0.257000\n",
      "(Epoch 2 / 25) train acc: 0.500000; val_acc: 0.238000\n",
      "(Epoch 3 / 25) train acc: 0.614000; val_acc: 0.248000\n",
      "(Epoch 4 / 25) train acc: 0.704000; val_acc: 0.281000\n",
      "(Epoch 5 / 25) train acc: 0.754000; val_acc: 0.251000\n",
      "(Epoch 6 / 25) train acc: 0.820000; val_acc: 0.281000\n",
      "(Epoch 7 / 25) train acc: 0.872000; val_acc: 0.266000\n",
      "(Epoch 8 / 25) train acc: 0.896000; val_acc: 0.303000\n",
      "(Epoch 9 / 25) train acc: 0.914000; val_acc: 0.315000\n",
      "(Epoch 10 / 25) train acc: 0.912000; val_acc: 0.291000\n",
      "(Epoch 11 / 25) train acc: 0.920000; val_acc: 0.299000\n",
      "(Epoch 12 / 25) train acc: 0.930000; val_acc: 0.305000\n",
      "(Epoch 13 / 25) train acc: 0.926000; val_acc: 0.295000\n",
      "(Epoch 14 / 25) train acc: 0.950000; val_acc: 0.286000\n",
      "(Epoch 15 / 25) train acc: 0.962000; val_acc: 0.289000\n",
      "(Epoch 16 / 25) train acc: 0.962000; val_acc: 0.277000\n",
      "(Epoch 17 / 25) train acc: 0.980000; val_acc: 0.278000\n",
      "(Epoch 18 / 25) train acc: 0.988000; val_acc: 0.287000\n",
      "(Epoch 19 / 25) train acc: 0.984000; val_acc: 0.296000\n",
      "(Epoch 20 / 25) train acc: 0.986000; val_acc: 0.278000\n",
      "(Iteration 101 / 125) loss: 0.035925\n",
      "(Epoch 21 / 25) train acc: 0.984000; val_acc: 0.274000\n",
      "(Epoch 22 / 25) train acc: 0.988000; val_acc: 0.278000\n",
      "(Epoch 23 / 25) train acc: 0.978000; val_acc: 0.290000\n",
      "(Epoch 24 / 25) train acc: 0.984000; val_acc: 0.294000\n",
      "(Epoch 25 / 25) train acc: 0.988000; val_acc: 0.265000\n",
      "\n"
     ]
    }
   ],
   "source": [
    "# Train two identical nets, one with dropout and one without.\n",
    "np.random.seed(231)\n",
    "num_train = 500\n",
    "small_data = {\n",
    "    'X_train': data['X_train'][:num_train],\n",
    "    'y_train': data['y_train'][:num_train],\n",
    "    'X_val': data['X_val'],\n",
    "    'y_val': data['y_val'],\n",
    "}\n",
    "\n",
    "solvers = {}\n",
    "dropout_choices = [1, 0.5]\n",
    "for dropout_keep_ratio in dropout_choices:\n",
    "    model = FullyConnectedNet(\n",
    "        [500],\n",
    "        dropout_keep_ratio=dropout_keep_ratio\n",
    "    )\n",
    "    print(dropout_keep_ratio)\n",
    "\n",
    "    solver = Solver(\n",
    "        model,\n",
    "        small_data,\n",
    "        num_epochs=25,\n",
    "        batch_size=100,\n",
    "        update_rule='adam',\n",
    "        optim_config={'learning_rate': 5e-4,},\n",
    "        verbose=True,\n",
    "        print_every=100\n",
    "    )\n",
    "    solver.train()\n",
    "    solvers[dropout_keep_ratio] = solver\n",
    "    print()"
   ]
  },
  {
   "cell_type": "code",
   "execution_count": 22,
   "metadata": {},
   "outputs": [
    {
     "data": {
      "image/png": "[encoded data removed]",
      "text/plain": [
       "<Figure size 1080x1080 with 2 Axes>"
      ]
     },
     "metadata": {
      "needs_background": "light"
     },
     "output_type": "display_data"
    }
   ],
   "source": [
    "# Plot train and validation accuracies of the two models.\n",
    "train_accs = []\n",
    "val_accs = []\n",
    "for dropout_keep_ratio in dropout_choices:\n",
    "    solver = solvers[dropout_keep_ratio]\n",
    "    train_accs.append(solver.train_acc_history[-1])\n",
    "    val_accs.append(solver.val_acc_history[-1])\n",
    "\n",
    "plt.subplot(3, 1, 1)\n",
    "for dropout_keep_ratio in dropout_choices:\n",
    "    plt.plot(\n",
    "        solvers[dropout_keep_ratio].train_acc_history, 'o', label='%.2f dropout_keep_ratio' % dropout_keep_ratio)\n",
    "plt.title('Train accuracy')\n",
    "plt.xlabel('Epoch')\n",
    "plt.ylabel('Accuracy')\n",
    "plt.legend(ncol=2, loc='lower right')\n",
    "  \n",
    "plt.subplot(3, 1, 2)\n",
    "for dropout_keep_ratio in dropout_choices:\n",
    "    plt.plot(\n",
    "        solvers[dropout_keep_ratio].val_acc_history, 'o', label='%.2f dropout_keep_ratio' % dropout_keep_ratio)\n",
    "plt.title('Val accuracy')\n",
    "plt.xlabel('Epoch')\n",
    "plt.ylabel('Accuracy')\n",
    "plt.legend(ncol=2, loc='lower right')\n",
    "\n",
    "plt.gcf().set_size_inches(15, 15)\n",
    "plt.show()"
   ]
  },
  {
   "cell_type": "markdown",
   "metadata": {
    "pycharm": {
     "name": "#%% md\n"
    },
    "tags": [
     "pdf-inline"
    ]
   },
   "source": [
    "## Inline Question 2:\n",
    "比较有dropout和没有dropout时的验证精度和训练精度——关于dropout作为正则化器，您的结果表明了什么?\n",
    "\n",
    "## Answer:\n",
    "\n",
    " 在没有Dropout的情况下，训练精度往往会高于验证精度，这是由于网络过拟合训练数据。\n",
    " 但使用Dropout后，训练过程中随机失活神经元，导致模型不能过分依赖某些特定的神经元，因此通常会观察到训练精度和验证精度之间的差距变小。\n",
    " Dropout有助于减少过拟合，提高模型的泛化能力。通过在训练期间减少神经元之间的依赖性，模型更可能学习到更加鲁棒和泛化的特征，对未见过的数据表现更好。\n",
    " Dropout可以视为在训练期间集成多个子网络的效果，因为每次训练时都会随机丢弃一部分神经元。这有助于模型变得更加稳健，因为它不会过度依赖于单个神经元或特定的路径。\n"
   ]
  },
  {
   "cell_type": "code",
   "execution_count": 26,
   "metadata": {},
   "outputs": [
    {
     "name": "stdout",
     "output_type": "stream",
     "text": [
      "/bin/sh: 1: zip: not found\r\n"
     ]
    }
   ],
   "source": [
    "import zipfile\n",
    "import os\n",
    "\n",
    "def zip_folder(folder_path, output_path):\n",
    "    with zipfile.ZipFile(output_path, 'w', zipfile.ZIP_DEFLATED) as zipf:\n",
    "        for root, _, files in os.walk(folder_path):\n",
    "            for file in files:\n",
    "                file_path = os.path.join(root, file)\n",
    "                zipf.write(file_path, os.path.relpath(file_path, folder_path))\n",
    "\n",
    "folder_to_zip = '/path/to/dlcv'  # 修改为要打包的文件夹路径\n",
    "output_zip = '/path/to/dlcv.zip'  # 修改为要输出的ZIP文件路径\n",
    "\n",
    "zip_folder(folder_to_zip, output_zip)\n"
   ]
  }
 ],
 "metadata": {
  "kernelspec": {
   "display_name": "Python 3",
   "language": "python",
   "name": "python3"
  },
  "language_info": {
   "codemirror_mode": {
    "name": "ipython",
    "version": 3
   },
   "file_extension": ".py",
   "mimetype": "text/x-python",
   "name": "python",
   "nbconvert_exporter": "python",
   "pygments_lexer": "ipython3",
   "version": "3.6.7"
  }
 },
 "nbformat": 4,
 "nbformat_minor": 2
}
