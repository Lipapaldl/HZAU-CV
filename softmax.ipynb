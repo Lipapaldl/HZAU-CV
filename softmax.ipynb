{
 "cells": [
  {
   "cell_type": "markdown",
   "metadata": {
    "tags": [
     "pdf-title"
    ]
   },
   "source": [
    "# Softmax练习\n",
    "此练习类似于SVM练习。您将：\n",
    "-为Softmax分类器实现完全矢量化的**损失函数**\n",
    "-实现其**解析梯度的完全矢量化表达式**\n",
    "-**使用数值梯度检查您的实现**\n",
    "-使用验证集**调整学习率和正则化**强度\n",
    "-**使用**SGD优化**损失函数**\n",
    "-**可视化**最终学习的权重"
   ]
  },
  {
   "cell_type": "code",
   "execution_count": 3,
   "metadata": {},
   "outputs": [
    {
     "name": "stdout",
     "output_type": "stream",
     "text": [
      "dlcv.zip 已成功解压到 test\n"
     ]
    }
   ],
   "source": [
    "import zipfile\n",
    "\n",
    "# 指定要解压的ZIP文件名\n",
    "zip_file = 'dlcv.zip'\n",
    "\n",
    "# 指定解压后的目标文件夹\n",
    "target_folder = 'test'\n",
    "\n",
    "# 打开ZIP文件\n",
    "with zipfile.ZipFile(zip_file, 'r') as zip_ref:\n",
    "    # 解压所有文件到目标文件夹\n",
    "    zip_ref.extractall(target_folder)\n",
    "\n",
    "print(f'{zip_file} 已成功解压到 {target_folder}')"
   ]
  },
  {
   "cell_type": "code",
   "execution_count": 23,
   "metadata": {
    "ExecuteTime": {
     "end_time": "2023-10-23T11:48:49.408754Z",
     "start_time": "2023-10-23T11:48:48.903427Z"
    },
    "tags": [
     "pdf-ignore"
    ]
   },
   "outputs": [
    {
     "name": "stdout",
     "output_type": "stream",
     "text": [
      "The autoreload extension is already loaded. To reload it, use:\n",
      "  %reload_ext autoreload\n"
     ]
    }
   ],
   "source": [
    "import random\n",
    "import numpy as np\n",
    "from dlcv.data_utils import load_CIFAR10\n",
    "import matplotlib.pyplot as plt\n",
    "\n",
    "%matplotlib inline\n",
    "\n",
    "plt.rcParams['figure.figsize'] = (10.0, 8.0) # set default size of plots\n",
    "plt.rcParams['image.interpolation'] = 'nearest'\n",
    "plt.rcParams['image.cmap'] = 'gray'\n",
    "\n",
    "# for auto-reloading extenrnal modules\n",
    "# see http://stackoverflow.com/questions/1907993/autoreload-of-modules-in-ipython\n",
    "%load_ext autoreload\n",
    "%autoreload 2"
   ]
  },
  {
   "cell_type": "code",
   "execution_count": 24,
   "metadata": {
    "ExecuteTime": {
     "end_time": "2023-10-23T11:48:52.598397Z",
     "start_time": "2023-10-23T11:48:50.691977Z"
    },
    "tags": [
     "pdf-ignore"
    ]
   },
   "outputs": [
    {
     "name": "stdout",
     "output_type": "stream",
     "text": [
      "Train data shape:  (49000, 3073)\n",
      "Train labels shape:  (49000,)\n",
      "Validation data shape:  (1000, 3073)\n",
      "Validation labels shape:  (1000,)\n",
      "Test data shape:  (1000, 3073)\n",
      "Test labels shape:  (1000,)\n",
      "dev data shape:  (500, 3073)\n",
      "dev labels shape:  (500,)\n"
     ]
    }
   ],
   "source": [
    "def get_CIFAR10_data(num_training=49000, num_validation=1000, num_test=1000, num_dev=500):\n",
    "    \"\"\"\n",
    "    从磁盘加载CIFAR-10数据集，并进行预处理，为线性分类器做好准备。\n",
    "    这些步骤与我们用于SVM的步骤相同，但浓缩为一个函数。\n",
    "    \"\"\"\n",
    "    # Load the raw CIFAR-10 data\n",
    "    cifar10_dir = 'dlcv/datasets/cifar-10-batches-py'\n",
    "    \n",
    "    # 清理变量以防止多次加载数据（这可能会导致内存问题）\n",
    "    try:\n",
    "        del X_train, y_train\n",
    "        del X_test, y_test\n",
    "        print('Clear previously loaded data.')\n",
    "    except:\n",
    "        pass\n",
    "\n",
    "    X_train, y_train, X_test, y_test = load_CIFAR10(cifar10_dir)\n",
    "    \n",
    "    # 对数据进行二次采样\n",
    "    mask = list(range(num_training, num_training + num_validation))\n",
    "    X_val = X_train[mask]\n",
    "    y_val = y_train[mask]\n",
    "    mask = list(range(num_training))\n",
    "    X_train = X_train[mask]\n",
    "    y_train = y_train[mask]\n",
    "    mask = list(range(num_test))\n",
    "    X_test = X_test[mask]\n",
    "    y_test = y_test[mask]\n",
    "    mask = np.random.choice(num_training, num_dev, replace=False)\n",
    "    X_dev = X_train[mask]\n",
    "    y_dev = y_train[mask]\n",
    "    \n",
    "    # 预处理：将图像数据重塑为行\n",
    "    X_train = np.reshape(X_train, (X_train.shape[0], -1))\n",
    "    X_val = np.reshape(X_val, (X_val.shape[0], -1))\n",
    "    X_test = np.reshape(X_test, (X_test.shape[0], -1))\n",
    "    X_dev = np.reshape(X_dev, (X_dev.shape[0], -1))\n",
    "    \n",
    "    # 规格化数据：减去平均图像\n",
    "    mean_image = np.mean(X_train, axis = 0)\n",
    "    X_train -= mean_image\n",
    "    X_val -= mean_image\n",
    "    X_test -= mean_image\n",
    "    X_dev -= mean_image\n",
    "    \n",
    "    # 添加偏差维度并转换为列\n",
    "    X_train = np.hstack([X_train, np.ones((X_train.shape[0], 1))])\n",
    "    X_val = np.hstack([X_val, np.ones((X_val.shape[0], 1))])\n",
    "    X_test = np.hstack([X_test, np.ones((X_test.shape[0], 1))])\n",
    "    X_dev = np.hstack([X_dev, np.ones((X_dev.shape[0], 1))])\n",
    "    \n",
    "    return X_train, y_train, X_val, y_val, X_test, y_test, X_dev, y_dev\n",
    "\n",
    "\n",
    "# 调用上面的函数来获取我们的数据。\n",
    "X_train, y_train, X_val, y_val, X_test, y_test, X_dev, y_dev = get_CIFAR10_data()\n",
    "print('Train data shape: ', X_train.shape)\n",
    "print('Train labels shape: ', y_train.shape)\n",
    "print('Validation data shape: ', X_val.shape)\n",
    "print('Validation labels shape: ', y_val.shape)\n",
    "print('Test data shape: ', X_test.shape)\n",
    "print('Test labels shape: ', y_test.shape)\n",
    "print('dev data shape: ', X_dev.shape)\n",
    "print('dev labels shape: ', y_dev.shape)"
   ]
  },
  {
   "cell_type": "markdown",
   "metadata": {},
   "source": [
    "## Softmax 分类器\n",
    "\n",
    "本节的代码将全部写入“dlcv/classifiers/softmax.py”中。\n"
   ]
  },
  {
   "cell_type": "code",
   "execution_count": 25,
   "metadata": {
    "ExecuteTime": {
     "end_time": "2023-10-23T11:47:58.330690Z",
     "start_time": "2023-10-23T11:47:58.132272Z"
    }
   },
   "outputs": [
    {
     "name": "stdout",
     "output_type": "stream",
     "text": [
      "loss: 2.384482\n",
      "sanity check: 2.302585\n"
     ]
    }
   ],
   "source": [
    "# 首先用嵌套循环实现简单的softmax loss函数。\n",
    "# 打开文件dlcv/classifiers/softmax.py并实现softmax_loss_naive函数。\n",
    "\n",
    "from dlcv.classifiers.softmax import softmax_loss_naive\n",
    "import time\n",
    "\n",
    "# 生成一个随机softmax权重矩阵，并使用它来计算损失。\n",
    "W = np.random.randn(3073, 10) * 0.0001\n",
    "loss, grad = softmax_loss_naive(W, X_dev, y_dev, 0.0)\n",
    "\n",
    "# 作为一个粗略的健全性检查，我们的损失应该接近-log（0.1）。\n",
    "print('loss: %f' % loss)\n",
    "print('sanity check: %f' % (-np.log(0.1)))"
   ]
  },
  {
   "cell_type": "markdown",
   "metadata": {
    "tags": [
     "pdf-inline"
    ]
   },
   "source": [
    "**Inline Question 1**\n",
    "\n",
    "为什么我们期望我们的损失接近-log（0.1）？**简要解释**\n",
    "\n",
    "$\\color{blue}{\\textit Your Answer:}$ *1.CIFAR10数据集类别数是10    2.随机初始化 综上两个原因导致正确识别的概率是10%左右* \n",
    "\n"
   ]
  },
  {
   "cell_type": "code",
   "execution_count": 26,
   "metadata": {
    "ExecuteTime": {
     "end_time": "2023-10-23T11:48:04.177535Z",
     "start_time": "2023-10-23T11:48:00.163728Z"
    }
   },
   "outputs": [
    {
     "name": "stdout",
     "output_type": "stream",
     "text": [
      "numerical: -0.340966 analytic: -0.340966, relative error: 4.731841e-08\n",
      "numerical: 1.353095 analytic: 1.353095, relative error: 1.262125e-08\n",
      "numerical: -1.798073 analytic: -1.798073, relative error: 2.042364e-08\n",
      "numerical: -0.668547 analytic: -0.668547, relative error: 1.363230e-08\n",
      "numerical: -0.341319 analytic: -0.341319, relative error: 2.546463e-08\n",
      "numerical: 3.083761 analytic: 3.083761, relative error: 1.999924e-08\n",
      "numerical: 1.688145 analytic: 1.688145, relative error: 1.949723e-08\n",
      "numerical: -0.256166 analytic: -0.256166, relative error: 2.339295e-07\n",
      "numerical: 3.713932 analytic: 3.713932, relative error: 7.927980e-10\n",
      "numerical: -0.146410 analytic: -0.146411, relative error: 1.423771e-07\n",
      "numerical: 0.132375 analytic: 0.132375, relative error: 2.906828e-07\n",
      "numerical: 1.041494 analytic: 1.041494, relative error: 2.942029e-08\n",
      "numerical: -0.906374 analytic: -0.906374, relative error: 2.053911e-08\n",
      "numerical: 2.467818 analytic: 2.467818, relative error: 2.059745e-08\n",
      "numerical: 0.119363 analytic: 0.119363, relative error: 5.639248e-07\n",
      "numerical: -3.299350 analytic: -3.299350, relative error: 7.969040e-09\n",
      "numerical: 1.066540 analytic: 1.066540, relative error: 8.440814e-12\n",
      "numerical: 4.650842 analytic: 4.650842, relative error: 2.064746e-08\n",
      "numerical: -0.987192 analytic: -0.987192, relative error: 4.104215e-08\n",
      "numerical: 1.918140 analytic: 1.918140, relative error: 5.232068e-08\n"
     ]
    }
   ],
   "source": [
    "# 完成softmax_loss_naive的实现，并实现使用嵌套循环的版本。\n",
    "loss, grad = softmax_loss_naive(W, X_dev, y_dev, 0.0)\n",
    "\n",
    "# 正如我们对SVM所做的那样，使用数值梯度检查作为调试工具。\n",
    "# 数值梯度应接近分析梯度。\n",
    "from dlcv.gradient_check import grad_check_sparse\n",
    "f = lambda w: softmax_loss_naive(w, X_dev, y_dev, 0.0)[0]\n",
    "grad_numerical = grad_check_sparse(f, W, grad, 10)\n",
    "\n",
    "# 类似于SVM的情况，使用正则化进行另一个梯度检查\n",
    "loss, grad = softmax_loss_naive(W, X_dev, y_dev, 5e1)\n",
    "f = lambda w: softmax_loss_naive(w, X_dev, y_dev, 5e1)[0]\n",
    "grad_numerical = grad_check_sparse(f, W, grad, 10)"
   ]
  },
  {
   "cell_type": "code",
   "execution_count": 27,
   "metadata": {
    "ExecuteTime": {
     "end_time": "2023-10-23T11:48:37.989112Z",
     "start_time": "2023-10-23T11:48:37.790317Z"
    },
    "scrolled": true
   },
   "outputs": [
    {
     "name": "stdout",
     "output_type": "stream",
     "text": [
      "naive loss: 2.384482e+00 computed in 0.583167s\n",
      "vectorized loss: 2.384482e+00 computed in 0.006683s\n",
      "Loss difference: 0.000000\n",
      "Gradient difference: 0.000000\n"
     ]
    }
   ],
   "source": [
    "# 既然我们已经有了softmax损失函数及其梯度的简单实现，\n",
    "# 那么就在softmax_loss_vectorized中实现一个矢量化版本。\n",
    "# 这两个版本应该计算相同的结果，但矢量化版本应该更快。\n",
    "tic = time.time()\n",
    "loss_naive, grad_naive = softmax_loss_naive(W, X_dev, y_dev, 0.000005)\n",
    "toc = time.time()\n",
    "print('naive loss: %e computed in %fs' % (loss_naive, toc - tic))\n",
    "\n",
    "from dlcv.classifiers.softmax import softmax_loss_vectorized\n",
    "tic = time.time()\n",
    "loss_vectorized, grad_vectorized = softmax_loss_vectorized(W, X_dev, y_dev, 0.000005)\n",
    "toc = time.time()\n",
    "print('vectorized loss: %e computed in %fs' % (loss_vectorized, toc - tic))\n",
    "\n",
    "# 正如我们对SVM所做的那样，我们使用Frobenius范数来比较梯度的两个版本。\n",
    "grad_difference = np.linalg.norm(grad_naive - grad_vectorized, ord='fro')\n",
    "print('Loss difference: %f' % np.abs(loss_naive - loss_vectorized))\n",
    "print('Gradient difference: %f' % grad_difference)"
   ]
  },
  {
   "cell_type": "code",
   "execution_count": 29,
   "metadata": {
    "ExecuteTime": {
     "end_time": "2023-10-23T12:19:03.727004Z",
     "start_time": "2023-10-23T12:19:01.542164Z"
    },
    "tags": [
     "code"
    ],
    "test": "tuning"
   },
   "outputs": [
    {
     "name": "stdout",
     "output_type": "stream",
     "text": [
      "lr 7.500000e-08 reg 3.000000e+04 train accuracy: 0.344286 val accuracy: 0.352000\n",
      "lr 7.500000e-08 reg 3.250000e+04 train accuracy: 0.339776 val accuracy: 0.351000\n",
      "lr 7.500000e-08 reg 3.500000e+04 train accuracy: 0.341592 val accuracy: 0.364000\n",
      "lr 7.500000e-08 reg 3.750000e+04 train accuracy: 0.340633 val accuracy: 0.351000\n",
      "lr 1.250000e-07 reg 3.000000e+04 train accuracy: 0.345612 val accuracy: 0.359000\n",
      "lr 1.250000e-07 reg 3.250000e+04 train accuracy: 0.337082 val accuracy: 0.350000\n",
      "lr 1.250000e-07 reg 3.500000e+04 train accuracy: 0.338122 val accuracy: 0.341000\n",
      "lr 1.250000e-07 reg 3.750000e+04 train accuracy: 0.339286 val accuracy: 0.354000\n",
      "lr 1.500000e-07 reg 3.000000e+04 train accuracy: 0.342837 val accuracy: 0.353000\n",
      "lr 1.500000e-07 reg 3.250000e+04 train accuracy: 0.347510 val accuracy: 0.365000\n",
      "lr 1.500000e-07 reg 3.500000e+04 train accuracy: 0.332878 val accuracy: 0.343000\n",
      "lr 1.500000e-07 reg 3.750000e+04 train accuracy: 0.340898 val accuracy: 0.358000\n",
      "lr 2.000000e-07 reg 3.000000e+04 train accuracy: 0.339061 val accuracy: 0.357000\n",
      "lr 2.000000e-07 reg 3.250000e+04 train accuracy: 0.346041 val accuracy: 0.354000\n",
      "lr 2.000000e-07 reg 3.500000e+04 train accuracy: 0.337204 val accuracy: 0.344000\n",
      "lr 2.000000e-07 reg 3.750000e+04 train accuracy: 0.336837 val accuracy: 0.355000\n",
      "best validation accuracy achieved during cross-validation: 0.365000\n"
     ]
    }
   ],
   "source": [
    "# 使用验证集来调整超参数（正则化强度和学习率）。你应该在不同的学习率和正则化强度范围内进行实验；\n",
    "# 如果你很小心，你应该能够在验证集上获得超过0.35的分类准确度。\n",
    "\n",
    "from dlcv.classifiers import Softmax\n",
    "results = {}\n",
    "best_val = -1\n",
    "best_softmax = None\n",
    "learning_rates = [2e-7, 0.75e-7,1.5e-7, 1.25e-7]\n",
    "regularization_strengths = [3e4, 3.25e4, 3.5e4, 3.75e4]\n",
    "################################################################################\n",
    "# TODO:                                                                        #\n",
    "# 使用验证集设置学习率和正则化强度。这应该与您对SVM所做的验证相同；                        #\n",
    "# 将经过最佳训练的softmax分类器保存在best_softmax中。                                #\n",
    "################################################################################\n",
    "\n",
    "# *****START OF YOUR CODE (DO NOT DELETE/MODIFY THIS LINE)*****\n",
    "\n",
    "for lr in learning_rates:\n",
    "      for reg in regularization_strengths:\n",
    "        softmax = Softmax()\n",
    "        softmax.train(X_train, y_train, learning_rate=lr, reg=reg,num_iters=500, verbose=False)\n",
    "        y_train_pre = softmax.predict(X_train)\n",
    "        y_train_acc = np.mean(y_train == y_train_pre)\n",
    "        y_val_pre = softmax.predict(X_val)\n",
    "        y_val_acc = np.mean(y_val == y_val_pre)\n",
    "        results[(lr,reg)] = (y_train_acc,y_val_acc)\n",
    "        if(y_val_acc > best_val):\n",
    "            best_val = y_val_acc\n",
    "            best_softmax = softmax\n",
    "# *****END OF YOUR CODE (DO NOT DELETE/MODIFY THIS LINE)*****    \n",
    "# Print out results.\n",
    "for lr, reg in sorted(results):\n",
    "    train_acc, val_acc = results[(lr, reg)]\n",
    "    print('lr %e reg %e train accuracy: %f val accuracy: %f' % (\n",
    "                lr, reg, train_acc, val_acc))\n",
    "    \n",
    "print('best validation accuracy achieved during cross-validation: %f' % best_val)"
   ]
  },
  {
   "cell_type": "code",
   "execution_count": 31,
   "metadata": {
    "ExecuteTime": {
     "end_time": "2023-10-23T11:23:44.716339Z",
     "start_time": "2023-10-23T11:23:44.613307Z"
    },
    "test": "test"
   },
   "outputs": [
    {
     "name": "stdout",
     "output_type": "stream",
     "text": [
      "softmax on raw pixels final test set accuracy: 0.343000\n"
     ]
    }
   ],
   "source": [
    "# evaluate on test set\n",
    "# Evaluate the best softmax on test set\n",
    "y_test_pred = best_softmax.predict(X_test)\n",
    "test_accuracy = np.mean(y_test == y_test_pred)\n",
    "print('softmax on raw pixels final test set accuracy: %f' % (test_accuracy, ))"
   ]
  },
  {
   "cell_type": "markdown",
   "metadata": {
    "tags": [
     "pdf-inline"
    ]
   },
   "source": [
    "**Inline Question 2** - *True or False*\n",
    "\n",
    "假设总训练损失被定义为所有训练示例中每个数据点损失的总和。\n",
    "可以向训练集中添加一个新的数据点，使SVM损失保持不变，但Softmax分类器损失的情况并非如此。\n",
    "\n",
    "$\\color{blue}{\\textit Your Answer:向训练集中添加一个新的数据点，SVM的损失可以保持不变，但Softmax分类器的损失通常会发生变化。}$\n",
    "\n",
    "\n",
    "$\\color{blue}{\\textit Your Explanation:SVM损失函数通常是合页损失，关注点在于保持正确类别的数据点的分数高于其他类别的数据点，直到超过某个阈值。对于一个已经正确分类的数据点，只要它的间隔没有超出某个阈值，就可以被添加到datasetrain,并且损失保持不变；softmax分类器使用交叉熵损失，每个类别的概率分布来计算损失。新增的点可能会改变每个类别的概率分布，导致更高的损失也是有可能的。}$\n",
    "\n"
   ]
  },
  {
   "cell_type": "code",
   "execution_count": 32,
   "metadata": {
    "ExecuteTime": {
     "end_time": "2023-10-23T11:23:49.550792Z",
     "start_time": "2023-10-23T11:23:49.438783Z"
    }
   },
   "outputs": [
    {
     "data": {
      "image/png": "[encoded data removed]",
      "text/plain": [
       "<Figure size 720x576 with 10 Axes>"
      ]
     },
     "metadata": {
      "needs_background": "light"
     },
     "output_type": "display_data"
    }
   ],
   "source": [
    "# 可视化每个类的学习权重\n",
    "w = best_softmax.W[:-1,:] # strip out the bias\n",
    "w = w.reshape(32, 32, 3, 10)\n",
    "\n",
    "w_min, w_max = np.min(w), np.max(w)\n",
    "\n",
    "classes = ['plane', 'car', 'bird', 'cat', 'deer', 'dog', 'frog', 'horse', 'ship', 'truck']\n",
    "for i in range(10):\n",
    "    plt.subplot(2, 5, i + 1)\n",
    "    \n",
    "    # Rescale the weights to be between 0 and 255\n",
    "    wimg = 255.0 * (w[:, :, :, i].squeeze() - w_min) / (w_max - w_min)\n",
    "    plt.imshow(wimg.astype('uint8'))\n",
    "    plt.axis('off')\n",
    "    plt.title(classes[i])"
   ]
  }
 ],
 "metadata": {
  "hide_input": false,
  "kernelspec": {
   "display_name": "Python 3",
   "language": "python",
   "name": "python3"
  },
  "language_info": {
   "codemirror_mode": {
    "name": "ipython",
    "version": 3
   },
   "file_extension": ".py",
   "mimetype": "text/x-python",
   "name": "python",
   "nbconvert_exporter": "python",
   "pygments_lexer": "ipython3",
   "version": "3.6.7"
  },
  "toc": {
   "base_numbering": 1,
   "nav_menu": {},
   "number_sections": true,
   "sideBar": true,
   "skip_h1_title": false,
   "title_cell": "Table of Contents",
   "title_sidebar": "Contents",
   "toc_cell": false,
   "toc_position": {},
   "toc_section_display": true,
   "toc_window_display": false
  }
 },
 "nbformat": 4,
 "nbformat_minor": 5
}
